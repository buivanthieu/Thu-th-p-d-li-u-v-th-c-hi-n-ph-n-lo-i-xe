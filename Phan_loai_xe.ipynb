{
  "cells": [
    {
      "cell_type": "code",
      "execution_count": null,
      "metadata": {
        "id": "KJVVnBBphEWf"
      },
      "outputs": [],
      "source": [
        "from google.colab import drive\n",
        "from tensorflow import keras\n",
        "import tensorflow as tf\n",
        "import numpy as np\n",
        "import os\n",
        "import matplotlib.pyplot as plt\n",
        "\n",
        "from sklearn.metrics import accuracy_score\n",
        "from sklearn.metrics import classification_report\n",
        "from sklearn.metrics import confusion_matrix\n",
        "from sklearn.model_selection import train_test_split"
      ]
    },
    {
      "cell_type": "markdown",
      "metadata": {
        "id": "ABOS6ehFpJxf"
      },
      "source": [
        "## Đọc và tiền sử lý dữ liệu\n"
      ]
    },
    {
      "cell_type": "code",
      "execution_count": null,
      "metadata": {
        "colab": {
          "base_uri": "https://localhost:8080/"
        },
        "id": "i6AWqOaypN0Y",
        "outputId": "3839e2a7-618e-4a1c-fd40-426ad2a01d65"
      },
      "outputs": [
        {
          "name": "stdout",
          "output_type": "stream",
          "text": [
            "Mounted at /content/drive/\n"
          ]
        }
      ],
      "source": [
        "drive.mount('/content/drive/')\n"
      ]
    },
    {
      "cell_type": "code",
      "execution_count": null,
      "metadata": {
        "id": "p60Ujd1j1IXW"
      },
      "outputs": [],
      "source": [
        "WORK_PATH = './drive/MyDrive/Colab Notebooks/data/test'\n",
        "DATA_PATH = './drive/MyDrive/Colab Notebooks/data/train'"
      ]
    },
    {
      "cell_type": "code",
      "execution_count": null,
      "metadata": {
        "colab": {
          "base_uri": "https://localhost:8080/"
        },
        "id": "Og_PhULj1VPf",
        "outputId": "a879e166-5c48-4530-f03d-5d67e3c3b3d9"
      },
      "outputs": [
        {
          "name": "stdout",
          "output_type": "stream",
          "text": [
            "Found 4421 images belonging to 14 classes.\n",
            "Found 1100 images belonging to 14 classes.\n",
            "Found 1283 images belonging to 14 classes.\n"
          ]
        }
      ],
      "source": [
        "ImageGen = keras.preprocessing.image.ImageDataGenerator(horizontal_flip = True,rotation_range=20,\n",
        "                                                        width_shift_range=0.1,\n",
        "                                                        height_shift_range=0.1,validation_split=0.2)\n",
        "\n",
        "images_train = ImageGen.flow_from_directory(DATA_PATH,target_size=(224, 224),subset='training',batch_size = 100)\n",
        "images_val = ImageGen.flow_from_directory(DATA_PATH,target_size=(224, 224),subset='validation',batch_size = 100)\n",
        "images_test = ImageGen.flow_from_directory(WORK_PATH,target_size=(224, 224),batch_size = 813)"
      ]
    },
    {
      "cell_type": "code",
      "execution_count": null,
      "metadata": {
        "colab": {
          "base_uri": "https://localhost:8080/"
        },
        "id": "IJe6rneK2BaO",
        "outputId": "7486c8f1-b22c-42ed-9b6a-27905b5e3c3c"
      },
      "outputs": [
        {
          "data": {
            "text/plain": [
              "([0, 1, 2, 3, 4, 5, 6, 7, 8, 9, 10, 11, 12, 13],\n",
              " ['Audi',\n",
              "  'Ducati',\n",
              "  'Hyundai Creta',\n",
              "  'Mahindra Scorpio',\n",
              "  'Piaggio',\n",
              "  'Rolls Royce',\n",
              "  'SYM',\n",
              "  'Suzuki',\n",
              "  'Swift',\n",
              "  'Tata Safari',\n",
              "  'Toyota Innova',\n",
              "  'Triumph',\n",
              "  'Wave',\n",
              "  'Yamaha'])"
            ]
          },
          "execution_count": 5,
          "metadata": {},
          "output_type": "execute_result"
        }
      ],
      "source": [
        "class_indices = list(images_train.class_indices.values())\n",
        "class_names = list(images_train.class_indices.keys())\n",
        "class_indices, class_names"
      ]
    },
    {
      "cell_type": "markdown",
      "metadata": {
        "id": "k5bGWca9HecG"
      },
      "source": [
        "## Xây dựng mô hình"
      ]
    },
    {
      "cell_type": "code",
      "execution_count": null,
      "metadata": {
        "colab": {
          "base_uri": "https://localhost:8080/"
        },
        "id": "jRHbHzKyHTNC",
        "outputId": "1d037df8-5571-4dca-b959-c983042ece7c"
      },
      "outputs": [
        {
          "name": "stdout",
          "output_type": "stream",
          "text": [
            "Model: \"model_3\"\n",
            "_________________________________________________________________\n",
            " Layer (type)                Output Shape              Param #   \n",
            "=================================================================\n",
            " input (InputLayer)          [(None, 224, 224, 3)]     0         \n",
            "                                                                 \n",
            " resize (Resizing)           (None, 224, 224, 3)       0         \n",
            "                                                                 \n",
            " resnet50 (Functional)       (None, 7, 7, 2048)        23587712  \n",
            "                                                                 \n",
            " pooling (GlobalAveragePooli  (None, 2048)             0         \n",
            " ng2D)                                                           \n",
            "                                                                 \n",
            " classfication (Dense)       (None, 14)                28686     \n",
            "                                                                 \n",
            "=================================================================\n",
            "Total params: 23,616,398\n",
            "Trainable params: 23,563,278\n",
            "Non-trainable params: 53,120\n",
            "_________________________________________________________________\n"
          ]
        }
      ],
      "source": [
        "pretrained_model= tf.keras.applications.ResNet50(input_shape = (224,224,3), weights=\"imagenet\",include_top=False)\n",
        "inputs = keras.layers.Input((224,224,3),name = 'input')\n",
        "x = keras.layers.Resizing(224,224, name = 'resize')(inputs)\n",
        "x = pretrained_model(x)\n",
        "x = keras.layers.GlobalAveragePooling2D(name = 'pooling')(x)\n",
        "ouputs = keras.layers.Dense(14,activation = 'softmax',name = 'classfication')(x)\n",
        "model = keras.Model(inputs = inputs, outputs = ouputs)\n",
        "model.summary()"
      ]
    },
    {
      "cell_type": "code",
      "execution_count": null,
      "metadata": {
        "colab": {
          "base_uri": "https://localhost:8080/"
        },
        "id": "psVYGcOjL0gp",
        "outputId": "a47623ca-b2b2-4a86-9ee8-c79bd1be9262"
      },
      "outputs": [
        {
          "name": "stdout",
          "output_type": "stream",
          "text": [
            "Model: \"model_5\"\n",
            "_________________________________________________________________\n",
            " Layer (type)                Output Shape              Param #   \n",
            "=================================================================\n",
            " input (InputLayer)          [(None, 224, 224, 3)]     0         \n",
            "                                                                 \n",
            " resize (Resizing)           (None, 224, 224, 3)       0         \n",
            "                                                                 \n",
            " resnet50 (Functional)       (None, 7, 7, 2048)        23587712  \n",
            "                                                                 \n",
            " pooling (GlobalAveragePooli  (None, 2048)             0         \n",
            " ng2D)                                                           \n",
            "                                                                 \n",
            " classfication (Dense)       (None, 14)                28686     \n",
            "                                                                 \n",
            "=================================================================\n",
            "Total params: 23,616,398\n",
            "Trainable params: 17,242,126\n",
            "Non-trainable params: 6,374,272\n",
            "_________________________________________________________________\n"
          ]
        }
      ],
      "source": [
        "l = len(model.layers[2].layers)\n",
        "for i, layer in enumerate(model.layers[2].layers):\n",
        "  if i <= 0.7*l:\n",
        "    layer.trainable = False\n",
        "model.summary()"
      ]
    },
    {
      "cell_type": "code",
      "execution_count": null,
      "metadata": {
        "id": "EQqh8lChIlYH"
      },
      "outputs": [],
      "source": [
        "model.compile(optimizer = keras.optimizers.Adam(learning_rate=0.0005,\n",
        "                                                amsgrad=True),\n",
        "              loss = keras.losses.CategoricalCrossentropy(),\n",
        "              metrics = ['accuracy'])"
      ]
    },
    {
      "cell_type": "code",
      "execution_count": null,
      "metadata": {
        "id": "aIg4GqoaWGIo"
      },
      "outputs": [],
      "source": [
        "callbacks = keras.callbacks.EarlyStopping(monitor=\"val_accuracy\",patience  = 5,verbose=1,min_delta = 0.01,restore_best_weights=True)\n",
        "history = model.fit(images_train,validation_data = images_val ,epochs = 100,callbacks = callbacks)"
      ]
    },
    {
      "cell_type": "code",
      "execution_count": null,
      "metadata": {
        "colab": {
          "base_uri": "https://localhost:8080/",
          "height": 927
        },
        "id": "Rir0tJgEME0L",
        "outputId": "b1f79433-bbdf-44c6-8574-62d405a1d534"
      },
      "outputs": [
        {
          "data": {
            "image/png": "[encoded data removed]",
            "text/plain": [
              "<Figure size 640x480 with 1 Axes>"
            ]
          },
          "metadata": {},
          "output_type": "display_data"
        },
        {
          "data": {
            "image/png": "[encoded data removed]",
            "text/plain": [
              "<Figure size 640x480 with 1 Axes>"
            ]
          },
          "metadata": {},
          "output_type": "display_data"
        }
      ],
      "source": [
        "plt.plot(history.history['accuracy'])\n",
        "plt.plot(history.history['val_accuracy'])\n",
        "plt.title('model accuracy')\n",
        "plt.ylabel('accuracy')\n",
        "plt.xlabel('epoch')\n",
        "plt.legend(['train', 'test'], loc='lower right')\n",
        "plt.show()\n",
        "# summarize history for loss\n",
        "plt.plot(history.history['loss'])\n",
        "plt.plot(history.history['val_loss'])\n",
        "plt.title('model loss')\n",
        "plt.ylabel('loss')\n",
        "plt.xlabel('epoch')\n",
        "plt.legend(['train', 'test'], loc='upper right')\n",
        "plt.show()"
      ]
    },
    {
      "cell_type": "code",
      "execution_count": null,
      "metadata": {
        "colab": {
          "base_uri": "https://localhost:8080/"
        },
        "id": "3Q1_efLfMIvQ",
        "outputId": "d722da1e-eb33-440f-882a-783c0be1879c"
      },
      "outputs": [
        {
          "name": "stdout",
          "output_type": "stream",
          "text": [
            "45/45 [==============================] - 69s 2s/step - loss: 0.0403 - accuracy: 0.9871\n"
          ]
        },
        {
          "data": {
            "text/plain": [
              "[0.04027608409523964, 0.98710697889328]"
            ]
          },
          "execution_count": 26,
          "metadata": {},
          "output_type": "execute_result"
        }
      ],
      "source": [
        "model.evaluate(images_train)"
      ]
    },
    {
      "cell_type": "code",
      "execution_count": null,
      "metadata": {
        "colab": {
          "base_uri": "https://localhost:8080/"
        },
        "id": "eu6ax1n7MLLY",
        "outputId": "36bdaeb3-3202-4c0f-c1cf-bf42f8d4df00"
      },
      "outputs": [
        {
          "name": "stdout",
          "output_type": "stream",
          "text": [
            "11/11 [==============================] - 17s 2s/step - loss: 0.4106 - accuracy: 0.8909\n"
          ]
        },
        {
          "data": {
            "text/plain": [
              "[0.4106258749961853, 0.8909090757369995]"
            ]
          },
          "execution_count": 27,
          "metadata": {},
          "output_type": "execute_result"
        }
      ],
      "source": [
        "model.evaluate(images_val)"
      ]
    },
    {
      "cell_type": "code",
      "execution_count": null,
      "metadata": {
        "colab": {
          "base_uri": "https://localhost:8080/"
        },
        "id": "4BPQ1BNyMNug",
        "outputId": "26a23df7-31e4-44db-c1a9-ae0f39c51e66"
      },
      "outputs": [
        {
          "name": "stdout",
          "output_type": "stream",
          "text": [
            "2/2 [==============================] - 22s 7s/step - loss: 0.4287 - accuracy: 0.8885\n"
          ]
        },
        {
          "data": {
            "text/plain": [
              "[0.42873725295066833, 0.8885424733161926]"
            ]
          },
          "execution_count": 28,
          "metadata": {},
          "output_type": "execute_result"
        }
      ],
      "source": [
        "model.evaluate(images_test)"
      ]
    },
    {
      "cell_type": "code",
      "execution_count": null,
      "metadata": {
        "id": "KoSaxaboMv75"
      },
      "outputs": [],
      "source": [
        "img, label = images_test.next()"
      ]
    },
    {
      "cell_type": "code",
      "execution_count": null,
      "metadata": {
        "colab": {
          "base_uri": "https://localhost:8080/"
        },
        "id": "UJGZVYDQMWbJ",
        "outputId": "0faa5e57-ebf2-47b9-a728-d02ae22b69e5"
      },
      "outputs": [
        {
          "name": "stdout",
          "output_type": "stream",
          "text": [
            "26/26 [==============================] - 3s 93ms/step\n",
            "[ 5  0 12  5  3 13  4  0  9 12 10 12  0  0  2  0  2  5 10 11  3  0 10  4\n",
            " 10  8 10  2  3  8  1  7 10  1 10  1 10  4 11  5 13  2 10  0  3  4  2 11\n",
            "  5 11  0  0  8 13 10  5 12 13  0 13  1 10  3  1  5  2  9  0  8  0  1 11\n",
            "  8  9 10  4  7  4 13  8 10  6  3  2  9 13  0 10  2  4  9  8  2 12 13  3\n",
            "  9  4 13  0 11  8 10 12  9 10  8  3  3  0 10  6  1  0  5  5 13  5  4  3\n",
            " 11 10 10  8 13 12  5  2  3  8 10  0  4  9  1  1 10  3 10 10  8  1 10  6\n",
            " 12  4  0  9 10  5  3 12  8  4  9 10 11 10  1  9 10  8  0  6  3  3 13 11\n",
            " 10  5  5  0  9 10  5  7  2 10 10  3  0 12 13 13  4 12  4  2  8 12  8  2\n",
            " 13  2  9  9  0  8  0 13 11  5  8  0  0 10 11  3  3 13  9 10  0  3  5  7\n",
            " 10  8  4  3  1 13  0  2  0 10 12 10  0  0  8  8  7  0  0 10 11  1 12  0\n",
            " 10  4  1  8  0  9  6  6  7  5  7  6  0 13 13 13  1  9 12  0  8  5 11  4\n",
            "  8 10 10  2  2  4 11  8  7  4  0  3 10  9 10  8  6 11  0  6  7  4  2 10\n",
            "  2  3  8  3 10 10 13 10  6 11  7 12  6  1  2  9  3 13  1  8 12  0  8  4\n",
            "  0 13  2  4 13  8  9  5  9  5 11  3 10  9  7 13 12  6  5  8 12 13  2  9\n",
            "  9 13 10 10  9 10  3  4 13  1  5  3  8 10 12 13  1  0 13  8 10  3 10 12\n",
            "  4 11  5  9 13  2  9  9 10  5  1  0  4 10  0 11  0  6  0  8 11  4 10  5\n",
            "  2  3  3 10  1 13 10 11  0  0  3  4  3  1  8  9  8  6  0  4  5 11  0  0\n",
            "  6  9 12  0 11  1  8  6  8 10 10 13  7  4  9 10 10  4  8  1 13  8  5  8\n",
            "  0  2 13  0 10 12  0 11 11  0  2  2 10  1  0  0  9  8  8 11  2 10  7  0\n",
            " 13  2  7  0 10 12  9 11 10  7  9  3  2  9  8 13 10  0  0 10 13  3  2  3\n",
            "  5  5  4  9  0  3  2  5 10 10  1 10 13 10 10  9 12  0  0  4  0  1  0  7\n",
            "  6  0 10  1  8  1  9  8  7  7  7  6  6  3  0 10  6  9  0  0 11  8  2  0\n",
            "  0  7 10 10  6  2  4  5  8  0  1 10  9 13  9  3  9 10 11  3  3  1  8  6\n",
            " 10  1  6 11  1  0  2  8  0  0  4  0  5  2 12 11  8  7  0  5  7  1  7 10\n",
            " 12  4  5  5  0  3 13  8  0  0  1  4  8  1  8 10  7  8 13  3  6 13 11  0\n",
            "  7  9  4  8  8  9 13 13 10 13  7  3  9  0  7  9 12  1  6 11  2  0  9  9\n",
            "  0  2 10  8  0  4  5 12  2 10  5  0  5  6 10  0  6 11  0  8  2  8 10 11\n",
            " 11  9  6 10 10  4  1 13  0  8  0 10 10 10  0 11  8  8  3  8 10 11  1 11\n",
            "  9  0  4  9  5  9  8  7  4  0  0  1  5  1 10  0  0  6 13 10  0  5  0  5\n",
            "  4 10  9 10  1  0  8 11  1  2  9  3  4  0  9  2  8  2  3 11  5 11  0 10\n",
            "  3 10  8 10  6  3 13  6 10 10  0  9  1  0 13  5  3  4  8 13 10  3  4 13\n",
            "  9  3  0  6  6  6  8 10  0 10 12  2 10  0  9 10  6  0  0  9 10 10  0 11\n",
            "  9  0 11 10 12 10  0  6  6  8  6 11  3  9  1  6  1 10  1 10  9  5  8 12\n",
            "  0  9  0  8  9 13  4  7  0  8 10  6  2  0 10 10 10  8 10  1  3]\n"
          ]
        }
      ],
      "source": [
        "y_pred = np.argmax(model.predict(img),axis =-1)\n",
        "y_true = np.argmax(label,axis =-1)\n",
        "print(np.argmax(label,axis =-1))"
      ]
    },
    {
      "cell_type": "code",
      "execution_count": null,
      "metadata": {
        "colab": {
          "base_uri": "https://localhost:8080/"
        },
        "id": "6LAmNSHKZI0v",
        "outputId": "cbf99c20-3269-4d4b-ca15-eb2fd3c69638"
      },
      "outputs": [
        {
          "data": {
            "text/plain": [
              "0.8892989"
            ]
          },
          "execution_count": 30,
          "metadata": {},
          "output_type": "execute_result"
        }
      ],
      "source": [
        "metrics_acc  = tf.keras.metrics.Accuracy()\n",
        "metrics_acc.update_state(y_true,y_pred)\n",
        "metrics_acc.result().numpy()"
      ]
    },
    {
      "cell_type": "code",
      "execution_count": null,
      "metadata": {
        "colab": {
          "base_uri": "https://localhost:8080/"
        },
        "id": "aXJ2k_HrZJMP",
        "outputId": "4234fbc6-f2bb-427e-cd17-d6afeef123d5"
      },
      "outputs": [
        {
          "name": "stdout",
          "output_type": "stream",
          "text": [
            "                  precision    recall  f1-score   support\n",
            "\n",
            "            Audi       0.99      0.92      0.96       116\n",
            "          Ducati       0.81      0.92      0.86        48\n",
            "   Hyundai Creta       0.93      0.91      0.92        45\n",
            "Mahindra Scorpio       0.93      0.98      0.95        53\n",
            "         Piaggio       0.96      0.57      0.71        46\n",
            "     Rolls Royce       0.98      0.98      0.98        46\n",
            "             SYM       0.61      0.57      0.59        40\n",
            "          Suzuki       0.90      0.90      0.90        29\n",
            "           Swift       0.92      0.91      0.91        75\n",
            "     Tata Safari       0.98      1.00      0.99        64\n",
            "   Toyota Innova       0.95      0.97      0.96       120\n",
            "         Triumph       0.86      0.82      0.84        45\n",
            "            Wave       0.78      0.97      0.86        32\n",
            "          Yamaha       0.64      0.78      0.70        54\n",
            "\n",
            "        accuracy                           0.89       813\n",
            "       macro avg       0.87      0.87      0.87       813\n",
            "    weighted avg       0.90      0.89      0.89       813\n",
            "\n"
          ]
        }
      ],
      "source": [
        "print(classification_report(y_true,y_pred,target_names=class_names))"
      ]
    },
    {
      "cell_type": "code",
      "execution_count": null,
      "metadata": {
        "colab": {
          "base_uri": "https://localhost:8080/"
        },
        "id": "A7YhFMCpZNIA",
        "outputId": "e8cedbc7-1eea-4134-93dc-9ab21f18bc15"
      },
      "outputs": [
        {
          "data": {
            "text/plain": [
              "array([[108,   0,   1,   0,   1,   4,   0,   0,   0,   1,   0,   0,   0,\n",
              "          1],\n",
              "       [  0,  39,   0,   0,   0,   0,   0,   0,   0,   0,   0,   8,   0,\n",
              "          1],\n",
              "       [  1,   0,  41,   1,   0,   0,   0,   0,   1,   1,   0,   0,   0,\n",
              "          0],\n",
              "       [  0,   0,   1,  51,   0,   0,   0,   0,   1,   0,   0,   0,   0,\n",
              "          0],\n",
              "       [  0,   3,   0,   0,  32,   0,   2,   0,   0,   0,   0,   1,   0,\n",
              "          8],\n",
              "       [  2,   0,   0,   0,   0,  43,   0,   0,   0,   0,   0,   1,   0,\n",
              "          0],\n",
              "       [  0,   0,   0,   0,   2,   0,  16,   0,   0,   0,   0,   4,   2,\n",
              "         16],\n",
              "       [  0,   0,   0,   0,   0,   0,   0,  29,   0,   0,   0,   0,   0,\n",
              "          0],\n",
              "       [  0,   0,   0,   1,   1,   0,   0,   0,  71,   0,   1,   0,   0,\n",
              "          1],\n",
              "       [  0,   0,   0,   0,   0,   0,   0,   0,   0,  63,   1,   0,   0,\n",
              "          0],\n",
              "       [  1,   0,   0,   0,   0,   0,   0,   0,   3,   1, 114,   1,   0,\n",
              "          0],\n",
              "       [  0,   2,   0,   0,   0,   0,   0,   0,   0,   0,   0,  43,   0,\n",
              "          0],\n",
              "       [  0,   0,   0,   0,   1,   0,   1,   1,   0,   0,   0,   0,  23,\n",
              "          6],\n",
              "       [  0,   4,   0,   0,   1,   1,   1,   1,   0,   0,   0,   6,   0,\n",
              "         40]])"
            ]
          },
          "execution_count": 21,
          "metadata": {},
          "output_type": "execute_result"
        }
      ],
      "source": [
        "confusion_matrix(y_true,y_pred)"
      ]
    },
    {
      "cell_type": "markdown",
      "metadata": {
        "id": "PgZ0o0Z-UXjV"
      },
      "source": [
        "## Lưu mô hình"
      ]
    },
    {
      "cell_type": "code",
      "execution_count": null,
      "metadata": {
        "id": "C5RcAVdjN-ja"
      },
      "outputs": [],
      "source": [
        "SAVE_PATH='./drive/MyDrive/Colab Notebooks/data/answer'\n"
      ]
    },
    {
      "cell_type": "code",
      "source": [
        "model.save_weights(os.path.join(SAVE_PATH,'Model_xe2.h5'))"
      ],
      "metadata": {
        "id": "-SWrNAAUkspd"
      },
      "execution_count": null,
      "outputs": []
    },
    {
      "cell_type": "markdown",
      "metadata": {
        "id": "_VU02NFN9yO4"
      },
      "source": [
        "# Sử dụng mô hình\n"
      ]
    },
    {
      "cell_type": "code",
      "execution_count": null,
      "metadata": {
        "colab": {
          "base_uri": "https://localhost:8080/"
        },
        "id": "TYBUs0L6bgwQ",
        "outputId": "3b3ebf8e-3443-46c7-bc3d-60a737d7bdec"
      },
      "outputs": [
        {
          "name": "stdout",
          "output_type": "stream",
          "text": [
            "Downloading data from https://storage.googleapis.com/tensorflow/keras-applications/resnet/resnet50_weights_tf_dim_ordering_tf_kernels_notop.h5\n",
            "94765736/94765736 [==============================] - 6s 0us/step\n"
          ]
        }
      ],
      "source": [
        "model = None\n",
        "pretrained_model = tf.keras.applications.ResNet50(input_shape = (224,224,3), weights=\"imagenet\",include_top=False)\n",
        "inputs = keras.layers.Input((224,224,3),name = 'input')\n",
        "x = keras.layers.Resizing(224,224, name = 'resize')(inputs)\n",
        "x = pretrained_model(x)\n",
        "x = keras.layers.GlobalAveragePooling2D(name = 'pooling')(x)\n",
        "ouputs = keras.layers.Dense(14,activation = 'softmax',name = 'classfication')(x)\n",
        "model = keras.Model(inputs = inputs, outputs = ouputs)\n",
        "\n",
        "\n"
      ]
    },
    {
      "cell_type": "code",
      "execution_count": null,
      "metadata": {
        "id": "xr8T9o-hLLef"
      },
      "outputs": [],
      "source": [
        "l = len(model.layers[2].layers)\n",
        "for i, layer in enumerate(model.layers[2].layers):\n",
        "  if i <= 0.7*l:\n",
        "    layer.trainable = False"
      ]
    },
    {
      "cell_type": "code",
      "execution_count": null,
      "metadata": {
        "id": "9puvvT-6LKbv"
      },
      "outputs": [],
      "source": [
        "model.load_weights(os.path.join(SAVE_PATH,'Model_xe2.h5'))"
      ]
    },
    {
      "cell_type": "code",
      "source": [
        "!pip install gradio"
      ],
      "metadata": {
        "id": "p9CL2s4qkfzv"
      },
      "execution_count": null,
      "outputs": []
    },
    {
      "cell_type": "code",
      "execution_count": null,
      "metadata": {
        "id": "CP7wDu9vuuwi"
      },
      "outputs": [],
      "source": [
        "import gradio as gr"
      ]
    },
    {
      "cell_type": "code",
      "execution_count": null,
      "metadata": {
        "id": "Gm6K0yUJulxm"
      },
      "outputs": [],
      "source": [
        "def predict_image(img):\n",
        "  img_4d=img.reshape(-1,224,224,3)\n",
        "  prediction=model.predict(img_4d)[0]\n",
        "  return {class_names[i]: float(prediction[i]) for i in range(14)}"
      ]
    },
    {
      "cell_type": "code",
      "execution_count": null,
      "metadata": {
        "colab": {
          "background_save": true,
          "base_uri": "https://localhost:8080/",
          "height": 827
        },
        "id": "MLn-NB6sunGP",
        "outputId": "30ee8b57-d787-4f88-b579-a8ac3c40babd"
      },
      "outputs": [
        {
          "name": "stderr",
          "output_type": "stream",
          "text": [
            "/usr/local/lib/python3.10/dist-packages/gradio/inputs.py:259: UserWarning: Usage of gradio.inputs is deprecated, and will not be supported in the future, please import your component from gradio.components\n",
            "  warnings.warn(\n",
            "/usr/local/lib/python3.10/dist-packages/gradio/inputs.py:262: UserWarning: `optional` parameter is deprecated, and it has no effect\n",
            "  super().__init__(\n",
            "/usr/local/lib/python3.10/dist-packages/gradio/outputs.py:197: UserWarning: Usage of gradio.outputs is deprecated, and will not be supported in the future, please import your components from gradio.components\n",
            "  warnings.warn(\n",
            "/usr/local/lib/python3.10/dist-packages/gradio/outputs.py:200: UserWarning: The 'type' parameter has been deprecated. Use the Number component instead.\n",
            "  super().__init__(num_top_classes=num_top_classes, type=type, label=label)\n"
          ]
        },
        {
          "name": "stdout",
          "output_type": "stream",
          "text": [
            "Colab notebook detected. This cell will run indefinitely so that you can see errors and logs. To turn off, set debug=False in launch().\n",
            "Note: opening Chrome Inspector may crash demo inside Colab notebooks.\n",
            "\n",
            "To create a public link, set `share=True` in `launch()`.\n"
          ]
        },
        {
          "data": {
            "application/javascript": [
              "(async (port, path, width, height, cache, element) => {\n",
              "                        if (!google.colab.kernel.accessAllowed && !cache) {\n",
              "                            return;\n",
              "                        }\n",
              "                        element.appendChild(document.createTextNode(''));\n",
              "                        const url = await google.colab.kernel.proxyPort(port, {cache});\n",
              "\n",
              "                        const external_link = document.createElement('div');\n",
              "                        external_link.innerHTML = `\n",
              "                            <div style=\"font-family: monospace; margin-bottom: 0.5rem\">\n",
              "                                Running on <a href=${new URL(path, url).toString()} target=\"_blank\">\n",
              "                                    https://localhost:${port}${path}\n",
              "                                </a>\n",
              "                            </div>\n",
              "                        `;\n",
              "                        element.appendChild(external_link);\n",
              "\n",
              "                        const iframe = document.createElement('iframe');\n",
              "                        iframe.src = new URL(path, url).toString();\n",
              "                        iframe.height = height;\n",
              "                        iframe.allow = \"autoplay; camera; microphone; clipboard-read; clipboard-write;\"\n",
              "                        iframe.width = width;\n",
              "                        iframe.style.border = 0;\n",
              "                        element.appendChild(iframe);\n",
              "                    })(7860, \"/\", \"100%\", 500, false, window.element)"
            ],
            "text/plain": [
              "<IPython.core.display.Javascript object>"
            ]
          },
          "metadata": {},
          "output_type": "display_data"
        },
        {
          "name": "stdout",
          "output_type": "stream",
          "text": [
            "1/1 [==============================] - 9s 9s/step\n",
            "1/1 [==============================] - 0s 25ms/step\n",
            "1/1 [==============================] - 0s 181ms/step\n"
          ]
        }
      ],
      "source": [
        "image = gr.inputs.Image(shape=(224,224))\n",
        "label = gr.outputs.Label(num_top_classes=14)\n",
        "\n",
        "gr.Interface(fn=predict_image, inputs=image, outputs=label,interpretation='default').launch(debug='True')"
      ]
    },
    {
      "cell_type": "code",
      "execution_count": null,
      "metadata": {
        "id": "Pk_6VRHYcbxR"
      },
      "outputs": [],
      "source": [
        "labels = ['Audi',\n",
        "  'Hyundai Creta',\n",
        "  'Mahindra Scorpio',\n",
        "  'Rolls Royce',\n",
        "  'Swift',\n",
        "  'Tata Safari',\n",
        "  'Toyota Innova']"
      ]
    },
    {
      "cell_type": "code",
      "execution_count": null,
      "metadata": {
        "id": "ThSef_7AcmBZ"
      },
      "outputs": [],
      "source": [
        "i=1\n",
        "pred = model.predict(img[i].reshape(1,224,224,3))\n",
        "pred = np.argmax(pred,axis = -1)"
      ]
    },
    {
      "cell_type": "code",
      "execution_count": null,
      "metadata": {
        "colab": {
          "base_uri": "https://localhost:8080/",
          "height": 36
        },
        "id": "tAhhcaACdErY",
        "outputId": "f16cc6fd-1bb0-4a88-892c-b4690d2d48c6"
      },
      "outputs": [
        {
          "data": {
            "application/vnd.google.colaboratory.intrinsic+json": {
              "type": "string"
            },
            "text/plain": [
              "'Toyota Innova'"
            ]
          },
          "execution_count": 40,
          "metadata": {},
          "output_type": "execute_result"
        }
      ],
      "source": [
        "labels[pred[0]]"
      ]
    },
    {
      "cell_type": "code",
      "execution_count": null,
      "metadata": {
        "colab": {
          "base_uri": "https://localhost:8080/",
          "height": 286
        },
        "id": "BSgkGiF6dIjq",
        "outputId": "9142f94f-902a-47df-eee1-8b2d2c19a4bc"
      },
      "outputs": [
        {
          "data": {
            "text/plain": [
              "<matplotlib.image.AxesImage at 0x7fe9ddd2e550>"
            ]
          },
          "execution_count": 85,
          "metadata": {},
          "output_type": "execute_result"
        },
        {
          "data": {
            "image/png": "[encoded data removed]",
            "text/plain": [
              "<Figure size 432x288 with 1 Axes>"
            ]
          },
          "metadata": {},
          "output_type": "display_data"
        }
      ],
      "source": [
        "plt.imshow(img[i]/255)\n"
      ]
    },
    {
      "cell_type": "code",
      "execution_count": null,
      "metadata": {
        "colab": {
          "base_uri": "https://localhost:8080/"
        },
        "id": "9T12GogOddBC",
        "outputId": "51ffc10f-edcb-43d7-f6f8-c40e16092d32"
      },
      "outputs": [
        {
          "name": "stdout",
          "output_type": "stream",
          "text": [
            "[0. 0. 0. 0. 0. 0. 1.]\n"
          ]
        }
      ],
      "source": [
        "print(label[i])"
      ]
    },
    {
      "cell_type": "markdown",
      "metadata": {
        "id": "AFrFJzUj8HG-"
      },
      "source": [
        "## Xem lại kết quả mô huấn luyện\n"
      ]
    },
    {
      "cell_type": "code",
      "execution_count": null,
      "metadata": {
        "id": "V8r-pBsr8nuu"
      },
      "outputs": [],
      "source": [
        "model.compile(optimizer = keras.optimizers.Adam(learning_rate=0.001,\n",
        "                                                amsgrad=True),\n",
        "              loss = keras.losses.CategoricalCrossentropy(),\n",
        "              metrics = ['accuracy'])"
      ]
    },
    {
      "cell_type": "code",
      "execution_count": null,
      "metadata": {
        "colab": {
          "base_uri": "https://localhost:8080/"
        },
        "id": "GdvPIXQX8XKG",
        "outputId": "e31a151e-b5f2-4d1f-ad9f-2eaf45ea02af"
      },
      "outputs": [
        {
          "name": "stdout",
          "output_type": "stream",
          "text": [
            "27/27 [==============================] - 37s 1s/step - loss: 0.0142 - accuracy: 0.9959\n"
          ]
        },
        {
          "data": {
            "text/plain": [
              "[0.01416922640055418, 0.9959016442298889]"
            ]
          },
          "execution_count": 26,
          "metadata": {},
          "output_type": "execute_result"
        }
      ],
      "source": [
        "model.evaluate(images_train)"
      ]
    },
    {
      "cell_type": "code",
      "execution_count": null,
      "metadata": {
        "colab": {
          "base_uri": "https://localhost:8080/"
        },
        "id": "DVR-WRrv_-kX",
        "outputId": "4f0fd1f1-9eb2-4b99-9e82-bb01e40d7215"
      },
      "outputs": [
        {
          "name": "stdout",
          "output_type": "stream",
          "text": [
            "7/7 [==============================] - 9s 1s/step - loss: 0.1489 - accuracy: 0.9596\n"
          ]
        },
        {
          "data": {
            "text/plain": [
              "[0.14886237680912018, 0.9595808386802673]"
            ]
          },
          "execution_count": 27,
          "metadata": {},
          "output_type": "execute_result"
        }
      ],
      "source": [
        "model.evaluate(images_val)"
      ]
    },
    {
      "cell_type": "code",
      "execution_count": null,
      "metadata": {
        "colab": {
          "base_uri": "https://localhost:8080/"
        },
        "id": "CFJRlZUFAEFW",
        "outputId": "7da8737f-99a0-4c50-8138-cea13177588e"
      },
      "outputs": [
        {
          "name": "stdout",
          "output_type": "stream",
          "text": [
            "1/1 [==============================] - 13s 13s/step - loss: 0.1768 - accuracy: 0.9533\n"
          ]
        },
        {
          "data": {
            "text/plain": [
              "[0.1767687350511551, 0.9532595276832581]"
            ]
          },
          "execution_count": 28,
          "metadata": {},
          "output_type": "execute_result"
        }
      ],
      "source": [
        "model.evaluate(images_test)"
      ]
    }
  ],
  "metadata": {
    "accelerator": "GPU",
    "colab": {
      "provenance": []
    },
    "kernelspec": {
      "display_name": "Python 3 (ipykernel)",
      "language": "python",
      "name": "python3"
    },
    "language_info": {
      "codemirror_mode": {
        "name": "ipython",
        "version": 3
      },
      "file_extension": ".py",
      "mimetype": "text/x-python",
      "name": "python",
      "nbconvert_exporter": "python",
      "pygments_lexer": "ipython3",
      "version": "3.9.12"
    }
  },
  "nbformat": 4,
  "nbformat_minor": 0
}